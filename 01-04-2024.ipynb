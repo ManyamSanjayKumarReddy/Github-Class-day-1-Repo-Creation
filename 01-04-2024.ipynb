{
 "cells": [
  {
   "cell_type": "code",
   "execution_count": 2,
   "id": "f26ef822-0550-4ffb-83c2-f553a456d693",
   "metadata": {},
   "outputs": [],
   "source": [
    "#variables\n",
    "reg = 4280\n",
    "name = \"Sanjay\"\n",
    "came_to_class = False\n"
   ]
  },
  {
   "cell_type": "code",
   "execution_count": 4,
   "id": "afa7f760-01fd-4a37-97fb-16d390f529a5",
   "metadata": {},
   "outputs": [],
   "source": [
    "a = \"manyam Sanjay KuMar\""
   ]
  },
  {
   "cell_type": "code",
   "execution_count": 5,
   "id": "73294288-dffc-4dbf-b205-8c42d42cf37a",
   "metadata": {},
   "outputs": [
    {
     "data": {
      "text/plain": [
       "19"
      ]
     },
     "execution_count": 5,
     "metadata": {},
     "output_type": "execute_result"
    }
   ],
   "source": [
    "len(a)"
   ]
  },
  {
   "cell_type": "code",
   "execution_count": 8,
   "id": "36b1bdf6-0157-4fd3-88f8-3a8cc56d1899",
   "metadata": {},
   "outputs": [
    {
     "data": {
      "text/plain": [
       "1"
      ]
     },
     "execution_count": 8,
     "metadata": {},
     "output_type": "execute_result"
    }
   ],
   "source": [
    "a.find(\"a\") #case sensitive"
   ]
  },
  {
   "cell_type": "code",
   "execution_count": 9,
   "id": "c8020a4a-cf1d-46b1-951a-504dd7741b5c",
   "metadata": {},
   "outputs": [
    {
     "data": {
      "text/plain": [
       "'MANYAM SANJAY KUMAR'"
      ]
     },
     "execution_count": 9,
     "metadata": {},
     "output_type": "execute_result"
    }
   ],
   "source": [
    "a.upper()"
   ]
  },
  {
   "cell_type": "code",
   "execution_count": 10,
   "id": "80df4ce2-8f48-46f5-836d-6223cac5c911",
   "metadata": {},
   "outputs": [
    {
     "data": {
      "text/plain": [
       "'manyam sanjay kumar'"
      ]
     },
     "execution_count": 10,
     "metadata": {},
     "output_type": "execute_result"
    }
   ],
   "source": [
    "a.lower()"
   ]
  },
  {
   "cell_type": "code",
   "execution_count": 15,
   "id": "aff6c41e-4dc8-46bd-83ea-e34e1777fa81",
   "metadata": {},
   "outputs": [
    {
     "data": {
      "text/plain": [
       "200"
      ]
     },
     "execution_count": 15,
     "metadata": {},
     "output_type": "execute_result"
    }
   ],
   "source": [
    "x = 10 \n",
    "y = 20\n",
    "x * y #Arithmetic Operations"
   ]
  },
  {
   "cell_type": "code",
   "execution_count": 19,
   "id": "1a56c740-703d-4e41-b446-d724429b660a",
   "metadata": {},
   "outputs": [
    {
     "name": "stdin",
     "output_type": "stream",
     "text": [
      "Enter you Reg Number Sanjay\n"
     ]
    }
   ],
   "source": [
    "#user input\n",
    "k = input(\"Enter you Reg Number\")"
   ]
  },
  {
   "cell_type": "code",
   "execution_count": 20,
   "id": "fc0bd715-5bf1-427e-9950-008f54be46e1",
   "metadata": {},
   "outputs": [
    {
     "data": {
      "text/plain": [
       "'Sanjay'"
      ]
     },
     "execution_count": 20,
     "metadata": {},
     "output_type": "execute_result"
    }
   ],
   "source": [
    "k"
   ]
  },
  {
   "cell_type": "code",
   "execution_count": 22,
   "id": "f0dfe139-7d25-4a7b-8245-1161bba90e8a",
   "metadata": {},
   "outputs": [
    {
     "name": "stdin",
     "output_type": "stream",
     "text": [
      "enter your Registration Number 10\n"
     ]
    }
   ],
   "source": [
    "k = int(input(\"enter your Registration Number\"))"
   ]
  },
  {
   "cell_type": "code",
   "execution_count": 23,
   "id": "bd7528ce-8ff2-4ad0-bb75-12790f6fadeb",
   "metadata": {},
   "outputs": [
    {
     "data": {
      "text/plain": [
       "10"
      ]
     },
     "execution_count": 23,
     "metadata": {},
     "output_type": "execute_result"
    }
   ],
   "source": [
    "k"
   ]
  },
  {
   "cell_type": "code",
   "execution_count": 35,
   "id": "625557a1-f4e1-4046-a5f4-779b2471970b",
   "metadata": {},
   "outputs": [],
   "source": [
    "import math\n",
    "\n",
    "pi = 9.25\n"
   ]
  },
  {
   "cell_type": "code",
   "execution_count": 36,
   "id": "471d4f0a-f884-4712-9f50-e19d930114a7",
   "metadata": {},
   "outputs": [
    {
     "data": {
      "text/plain": [
       "9"
      ]
     },
     "execution_count": 36,
     "metadata": {},
     "output_type": "execute_result"
    }
   ],
   "source": [
    "round(pi)"
   ]
  },
  {
   "cell_type": "code",
   "execution_count": 37,
   "id": "046e13ec-f00f-4336-9c50-084af8b47494",
   "metadata": {},
   "outputs": [
    {
     "data": {
      "text/plain": [
       "10"
      ]
     },
     "execution_count": 37,
     "metadata": {},
     "output_type": "execute_result"
    }
   ],
   "source": [
    "math.ceil(pi)"
   ]
  },
  {
   "cell_type": "code",
   "execution_count": 38,
   "id": "b7aed625-2321-47ef-b75a-ba999eb16486",
   "metadata": {},
   "outputs": [
    {
     "data": {
      "text/plain": [
       "9"
      ]
     },
     "execution_count": 38,
     "metadata": {},
     "output_type": "execute_result"
    }
   ],
   "source": [
    "math.floor(pi)"
   ]
  },
  {
   "cell_type": "code",
   "execution_count": 39,
   "id": "917910a8-caa9-4107-83ec-463eb58de8af",
   "metadata": {},
   "outputs": [
    {
     "data": {
      "text/plain": [
       "<module 'math' (built-in)>"
      ]
     },
     "execution_count": 39,
     "metadata": {},
     "output_type": "execute_result"
    }
   ],
   "source": [
    "math"
   ]
  },
  {
   "cell_type": "code",
   "execution_count": 40,
   "id": "99324130-8169-4747-a591-4b47c2aaa6e1",
   "metadata": {},
   "outputs": [],
   "source": [
    "import random "
   ]
  },
  {
   "cell_type": "code",
   "execution_count": 74,
   "id": "66118370-da42-4afc-995c-1a78190dcd86",
   "metadata": {},
   "outputs": [
    {
     "data": {
      "text/plain": [
       "2"
      ]
     },
     "execution_count": 74,
     "metadata": {},
     "output_type": "execute_result"
    }
   ],
   "source": [
    "k = random.randint(1,6)\n",
    "k"
   ]
  },
  {
   "cell_type": "code",
   "execution_count": 75,
   "id": "cc8ec594-cf13-4bfb-8471-3cad4ac6a393",
   "metadata": {},
   "outputs": [
    {
     "data": {
      "text/plain": [
       "<module 'random' from 'C:\\\\Users\\\\sanja\\\\anaconda3\\\\Lib\\\\random.py'>"
      ]
     },
     "execution_count": 75,
     "metadata": {},
     "output_type": "execute_result"
    }
   ],
   "source": [
    "random"
   ]
  },
  {
   "cell_type": "code",
   "execution_count": 76,
   "id": "d44b2295-cd5b-433e-ae38-bc53cf75b284",
   "metadata": {},
   "outputs": [],
   "source": [
    "#Slicing\n",
    "\n",
    "full_name = \"Manyam Sanjay Kumar Reddy\""
   ]
  },
  {
   "cell_type": "code",
   "execution_count": 83,
   "id": "9695d278-cc2b-4dde-b5a1-d694bbb2b9ec",
   "metadata": {},
   "outputs": [
    {
     "data": {
      "text/plain": [
       "'M'"
      ]
     },
     "execution_count": 83,
     "metadata": {},
     "output_type": "execute_result"
    }
   ],
   "source": [
    "first_name = full_name[0:1] # [o : included :: 6 (6-1)]\n",
    "first_name"
   ]
  },
  {
   "cell_type": "code",
   "execution_count": 87,
   "id": "1e2196f3-65a7-4eff-9b4c-054de396acd5",
   "metadata": {},
   "outputs": [],
   "source": [
    "k = full_name[5:7]"
   ]
  },
  {
   "cell_type": "code",
   "execution_count": 88,
   "id": "e4d4836d-b894-4576-a300-a72299a2b4fc",
   "metadata": {},
   "outputs": [
    {
     "data": {
      "text/plain": [
       "'m '"
      ]
     },
     "execution_count": 88,
     "metadata": {},
     "output_type": "execute_result"
    }
   ],
   "source": [
    "k"
   ]
  },
  {
   "cell_type": "code",
   "execution_count": 96,
   "id": "faf670be-4eac-47e3-8f5d-2a552948480f",
   "metadata": {},
   "outputs": [
    {
     "data": {
      "text/plain": [
       "'Manyam Sanjay Kumar'"
      ]
     },
     "execution_count": 96,
     "metadata": {},
     "output_type": "execute_result"
    }
   ],
   "source": [
    "u = full_name[:19]\n",
    "u"
   ]
  },
  {
   "cell_type": "code",
   "execution_count": 98,
   "id": "41028e5f-b84b-4756-b259-a92bcb9d03b7",
   "metadata": {},
   "outputs": [
    {
     "data": {
      "text/plain": [
       "'anjay Kumar Reddy'"
      ]
     },
     "execution_count": 98,
     "metadata": {},
     "output_type": "execute_result"
    }
   ],
   "source": [
    "o = full_name[8:]\n",
    "o"
   ]
  },
  {
   "cell_type": "code",
   "execution_count": 100,
   "id": "650c8622-4ef8-470a-a05f-715d116a6103",
   "metadata": {},
   "outputs": [
    {
     "data": {
      "text/plain": [
       "'Manyam Sanjay Kumar Reddy'"
      ]
     },
     "execution_count": 100,
     "metadata": {},
     "output_type": "execute_result"
    }
   ],
   "source": [
    "p = full_name[:]\n",
    "p"
   ]
  },
  {
   "cell_type": "code",
   "execution_count": 103,
   "id": "52ff81ee-d1db-4b20-af55-a19e6da96cf3",
   "metadata": {},
   "outputs": [
    {
     "data": {
      "text/plain": [
       "'yddeR ramuK yajnaS maynaM'"
      ]
     },
     "execution_count": 103,
     "metadata": {},
     "output_type": "execute_result"
    }
   ],
   "source": [
    "t = full_name[::-1]\n",
    "t"
   ]
  },
  {
   "cell_type": "code",
   "execution_count": 107,
   "id": "557bc655-562d-4323-aaf0-bfeea53cd68d",
   "metadata": {},
   "outputs": [
    {
     "data": {
      "text/plain": [
       "'anyam Sanjay Kumar Redd'"
      ]
     },
     "execution_count": 107,
     "metadata": {},
     "output_type": "execute_result"
    }
   ],
   "source": [
    "y = full_name[1:-1]\n",
    "y"
   ]
  },
  {
   "cell_type": "code",
   "execution_count": 120,
   "id": "02596a05-485f-41ab-97b6-b2f9952bccf4",
   "metadata": {},
   "outputs": [],
   "source": [
    "w = full_name[::-1]"
   ]
  },
  {
   "cell_type": "code",
   "execution_count": 121,
   "id": "e6cc5c4a-2824-4b16-b9d1-3fcc5a5910ec",
   "metadata": {},
   "outputs": [
    {
     "data": {
      "text/plain": [
       "'yddeR ramuK yajnaS maynaM'"
      ]
     },
     "execution_count": 121,
     "metadata": {},
     "output_type": "execute_result"
    }
   ],
   "source": [
    "w"
   ]
  },
  {
   "cell_type": "code",
   "execution_count": 122,
   "id": "159efe6c-802e-4532-8387-452f819bade9",
   "metadata": {},
   "outputs": [],
   "source": [
    "OK = \"MALAYALAM\""
   ]
  },
  {
   "cell_type": "code",
   "execution_count": 123,
   "id": "e3074980-fe4a-48b1-b6c7-1517407172f8",
   "metadata": {},
   "outputs": [],
   "source": [
    "KO = OK[::-1]"
   ]
  },
  {
   "cell_type": "code",
   "execution_count": 135,
   "id": "8fc96faf-f8a9-41c0-95a1-009a50352a7c",
   "metadata": {},
   "outputs": [
    {
     "name": "stdout",
     "output_type": "stream",
     "text": [
      "MALAYALAM is a Palindrome\n"
     ]
    }
   ],
   "source": [
    "OK = \"MALAYALAM\"\n",
    "\n",
    "KO = OK[::-1]\n",
    "\n",
    "if OK == KO:\n",
    "    print(OK + \" is a Palindrome\")\n",
    "else:\n",
    "    print(\"Not a Palindrom! Try with other\")\n",
    "\n",
    "# Reverse a String , \n",
    "# Check weather the given number or String is Palindrom or not , \n",
    "# Find wheather LAYA is in the Given Reversed String OR COOK is Present in the First Half of the String\n"
   ]
  },
  {
   "cell_type": "code",
   "execution_count": 136,
   "id": "b12f9418-aea8-4b6a-9d48-516167d23c74",
   "metadata": {},
   "outputs": [
    {
     "data": {
      "text/plain": [
       "2"
      ]
     },
     "execution_count": 136,
     "metadata": {},
     "output_type": "execute_result"
    }
   ],
   "source": [
    "KO.find(\"LAYA\")"
   ]
  },
  {
   "cell_type": "code",
   "execution_count": 137,
   "id": "73d02ea1-5c83-42f6-afd7-92ede6afc99e",
   "metadata": {},
   "outputs": [
    {
     "data": {
      "text/plain": [
       "'MALAYALAM'"
      ]
     },
     "execution_count": 137,
     "metadata": {},
     "output_type": "execute_result"
    }
   ],
   "source": [
    "KO"
   ]
  },
  {
   "cell_type": "code",
   "execution_count": 138,
   "id": "65c1d0d2-e34b-4664-ad92-cba5722fafb8",
   "metadata": {},
   "outputs": [],
   "source": [
    "# if Statments"
   ]
  },
  {
   "cell_type": "code",
   "execution_count": 150,
   "id": "afbe045a-9b23-414e-8b0b-5c1d30d1b9b9",
   "metadata": {},
   "outputs": [
    {
     "name": "stdout",
     "output_type": "stream",
     "text": [
      "You are Centurian\n"
     ]
    }
   ],
   "source": [
    "Age = 100\n",
    "\n",
    "if Age < 100:\n",
    "    print(\"Adult\")\n",
    "elif Age == 100:\n",
    "    print(\"You are Centurian\")\n",
    "else:\n",
    "    print(\"Not an Adult\")\n",
    "\n",
    "# If Elif Else Statemets Chala Qns Vasthai"
   ]
  },
  {
   "cell_type": "code",
   "execution_count": 165,
   "id": "e7d3aa13-e0a7-4e46-8c1b-b4dd0e57ced0",
   "metadata": {},
   "outputs": [
    {
     "name": "stdout",
     "output_type": "stream",
     "text": [
      "Both are Wrong\n"
     ]
    }
   ],
   "source": [
    "#Logical Operators AND & OR \n",
    "p = 10 \n",
    "l = 22\n",
    "\n",
    "if (p == 10) & (l == 40):\n",
    "    print(\"AND Statment\")\n",
    "elif p > 10 or l < 21:\n",
    "    print(\"OR Statment\")\n",
    "else:\n",
    "    print(\"Both are Wrong\")\n"
   ]
  },
  {
   "cell_type": "code",
   "execution_count": null,
   "id": "036ff1a3-ed51-4df3-a229-66ff6db29452",
   "metadata": {},
   "outputs": [],
   "source": []
  }
 ],
 "metadata": {
  "kernelspec": {
   "display_name": "Python 3 (ipykernel)",
   "language": "python",
   "name": "python3"
  },
  "language_info": {
   "codemirror_mode": {
    "name": "ipython",
    "version": 3
   },
   "file_extension": ".py",
   "mimetype": "text/x-python",
   "name": "python",
   "nbconvert_exporter": "python",
   "pygments_lexer": "ipython3",
   "version": "3.11.7"
  }
 },
 "nbformat": 4,
 "nbformat_minor": 5
}
